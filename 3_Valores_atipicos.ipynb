{
  "nbformat": 4,
  "nbformat_minor": 0,
  "metadata": {
    "colab": {
      "provenance": []
    },
    "kernelspec": {
      "name": "python3",
      "display_name": "Python 3"
    },
    "language_info": {
      "name": "python"
    }
  },
  "cells": [
    {
      "cell_type": "code",
      "execution_count": 1,
      "metadata": {
        "id": "XfqFn8h7kMUJ"
      },
      "outputs": [],
      "source": [
        "# Importar librerias necesarias\n",
        "import pandas as pd\n",
        "import numpy as np\n",
        "import matplotlib.pyplot as plt"
      ]
    },
    {
      "cell_type": "code",
      "source": [
        "#Cargar archivo csv desde equipo\n",
        "from google.colab import files\n",
        "files.upload()"
      ],
      "metadata": {
        "id": "5fGvuf4GkrAG"
      },
      "execution_count": null,
      "outputs": []
    },
    {
      "cell_type": "code",
      "source": [
        "#Carga desde un archivo .csv sin indice\n",
        "data= pd.read_csv('inmuebles_sin_nulos-2.csv')\n",
        "data"
      ],
      "metadata": {
        "colab": {
          "base_uri": "https://localhost:8080/",
          "height": 615
        },
        "id": "KYgAxC_XlOAM",
        "outputId": "966659b2-2eb8-4a29-9dd2-4af2680f5c34"
      },
      "execution_count": 3,
      "outputs": [
        {
          "output_type": "execute_result",
          "data": {
            "text/plain": [
              "      Indice        Fecha Alta        Tipo Operación  Provincia  Superficie  \\\n",
              "0          0  01/01/2004 00:00     Parking  Alquiler     Lleida       291.0   \n",
              "1          1  01/01/2004 00:00       Local     Venta     Girona       185.0   \n",
              "2          2  01/01/2004 00:00     Oficina  Alquiler     Girona        82.0   \n",
              "3          3  02/01/2004 00:00     Parking  Alquiler     Girona       285.0   \n",
              "4          4  02/01/2004 00:00       Suelo     Venta  Tarragona       152.0   \n",
              "...      ...               ...         ...       ...        ...         ...   \n",
              "3332    3332  29/04/2007 00:00  Industrial  Alquiler     Lleida       221.0   \n",
              "3333    3333  29/04/2007 00:00        Piso  Alquiler     Girona        55.0   \n",
              "3334    3334  30/04/2007 00:00       Suelo     Venta  Tarragona        78.0   \n",
              "3335    3335  30/04/2007 00:00        Piso  Alquiler  Barcelona        88.0   \n",
              "3336    3336  30/04/2007 00:00     Parking     Venta     Lleida       170.2   \n",
              "\n",
              "      Precio Venta       Fecha Venta Vendedor  \n",
              "0          2133903  19/06/2004 00:00   Carmen  \n",
              "1          1945424  19/04/2004 00:00    Pedro  \n",
              "2          1121906  08/11/2004 00:00  Joaquín  \n",
              "3          1121906  27/04/2004 00:00    Jesús  \n",
              "4           185000  10/07/2004 00:00    María  \n",
              "...            ...               ...      ...  \n",
              "3332       1450644  19/06/2030 00:00    María  \n",
              "3333        454080  19/06/2030 00:00    María  \n",
              "3334        740688  19/06/2030 00:00    María  \n",
              "3335        397408  19/06/2030 00:00    María  \n",
              "3336       2140712  19/06/2030 00:00    María  \n",
              "\n",
              "[3337 rows x 9 columns]"
            ],
            "text/html": [
              "\n",
              "  <div id=\"df-4c6ad1f0-3e56-464f-b643-ea1f2a742b9c\" class=\"colab-df-container\">\n",
              "    <div>\n",
              "<style scoped>\n",
              "    .dataframe tbody tr th:only-of-type {\n",
              "        vertical-align: middle;\n",
              "    }\n",
              "\n",
              "    .dataframe tbody tr th {\n",
              "        vertical-align: top;\n",
              "    }\n",
              "\n",
              "    .dataframe thead th {\n",
              "        text-align: right;\n",
              "    }\n",
              "</style>\n",
              "<table border=\"1\" class=\"dataframe\">\n",
              "  <thead>\n",
              "    <tr style=\"text-align: right;\">\n",
              "      <th></th>\n",
              "      <th>Indice</th>\n",
              "      <th>Fecha Alta</th>\n",
              "      <th>Tipo</th>\n",
              "      <th>Operación</th>\n",
              "      <th>Provincia</th>\n",
              "      <th>Superficie</th>\n",
              "      <th>Precio Venta</th>\n",
              "      <th>Fecha Venta</th>\n",
              "      <th>Vendedor</th>\n",
              "    </tr>\n",
              "  </thead>\n",
              "  <tbody>\n",
              "    <tr>\n",
              "      <th>0</th>\n",
              "      <td>0</td>\n",
              "      <td>01/01/2004 00:00</td>\n",
              "      <td>Parking</td>\n",
              "      <td>Alquiler</td>\n",
              "      <td>Lleida</td>\n",
              "      <td>291.0</td>\n",
              "      <td>2133903</td>\n",
              "      <td>19/06/2004 00:00</td>\n",
              "      <td>Carmen</td>\n",
              "    </tr>\n",
              "    <tr>\n",
              "      <th>1</th>\n",
              "      <td>1</td>\n",
              "      <td>01/01/2004 00:00</td>\n",
              "      <td>Local</td>\n",
              "      <td>Venta</td>\n",
              "      <td>Girona</td>\n",
              "      <td>185.0</td>\n",
              "      <td>1945424</td>\n",
              "      <td>19/04/2004 00:00</td>\n",
              "      <td>Pedro</td>\n",
              "    </tr>\n",
              "    <tr>\n",
              "      <th>2</th>\n",
              "      <td>2</td>\n",
              "      <td>01/01/2004 00:00</td>\n",
              "      <td>Oficina</td>\n",
              "      <td>Alquiler</td>\n",
              "      <td>Girona</td>\n",
              "      <td>82.0</td>\n",
              "      <td>1121906</td>\n",
              "      <td>08/11/2004 00:00</td>\n",
              "      <td>Joaquín</td>\n",
              "    </tr>\n",
              "    <tr>\n",
              "      <th>3</th>\n",
              "      <td>3</td>\n",
              "      <td>02/01/2004 00:00</td>\n",
              "      <td>Parking</td>\n",
              "      <td>Alquiler</td>\n",
              "      <td>Girona</td>\n",
              "      <td>285.0</td>\n",
              "      <td>1121906</td>\n",
              "      <td>27/04/2004 00:00</td>\n",
              "      <td>Jesús</td>\n",
              "    </tr>\n",
              "    <tr>\n",
              "      <th>4</th>\n",
              "      <td>4</td>\n",
              "      <td>02/01/2004 00:00</td>\n",
              "      <td>Suelo</td>\n",
              "      <td>Venta</td>\n",
              "      <td>Tarragona</td>\n",
              "      <td>152.0</td>\n",
              "      <td>185000</td>\n",
              "      <td>10/07/2004 00:00</td>\n",
              "      <td>María</td>\n",
              "    </tr>\n",
              "    <tr>\n",
              "      <th>...</th>\n",
              "      <td>...</td>\n",
              "      <td>...</td>\n",
              "      <td>...</td>\n",
              "      <td>...</td>\n",
              "      <td>...</td>\n",
              "      <td>...</td>\n",
              "      <td>...</td>\n",
              "      <td>...</td>\n",
              "      <td>...</td>\n",
              "    </tr>\n",
              "    <tr>\n",
              "      <th>3332</th>\n",
              "      <td>3332</td>\n",
              "      <td>29/04/2007 00:00</td>\n",
              "      <td>Industrial</td>\n",
              "      <td>Alquiler</td>\n",
              "      <td>Lleida</td>\n",
              "      <td>221.0</td>\n",
              "      <td>1450644</td>\n",
              "      <td>19/06/2030 00:00</td>\n",
              "      <td>María</td>\n",
              "    </tr>\n",
              "    <tr>\n",
              "      <th>3333</th>\n",
              "      <td>3333</td>\n",
              "      <td>29/04/2007 00:00</td>\n",
              "      <td>Piso</td>\n",
              "      <td>Alquiler</td>\n",
              "      <td>Girona</td>\n",
              "      <td>55.0</td>\n",
              "      <td>454080</td>\n",
              "      <td>19/06/2030 00:00</td>\n",
              "      <td>María</td>\n",
              "    </tr>\n",
              "    <tr>\n",
              "      <th>3334</th>\n",
              "      <td>3334</td>\n",
              "      <td>30/04/2007 00:00</td>\n",
              "      <td>Suelo</td>\n",
              "      <td>Venta</td>\n",
              "      <td>Tarragona</td>\n",
              "      <td>78.0</td>\n",
              "      <td>740688</td>\n",
              "      <td>19/06/2030 00:00</td>\n",
              "      <td>María</td>\n",
              "    </tr>\n",
              "    <tr>\n",
              "      <th>3335</th>\n",
              "      <td>3335</td>\n",
              "      <td>30/04/2007 00:00</td>\n",
              "      <td>Piso</td>\n",
              "      <td>Alquiler</td>\n",
              "      <td>Barcelona</td>\n",
              "      <td>88.0</td>\n",
              "      <td>397408</td>\n",
              "      <td>19/06/2030 00:00</td>\n",
              "      <td>María</td>\n",
              "    </tr>\n",
              "    <tr>\n",
              "      <th>3336</th>\n",
              "      <td>3336</td>\n",
              "      <td>30/04/2007 00:00</td>\n",
              "      <td>Parking</td>\n",
              "      <td>Venta</td>\n",
              "      <td>Lleida</td>\n",
              "      <td>170.2</td>\n",
              "      <td>2140712</td>\n",
              "      <td>19/06/2030 00:00</td>\n",
              "      <td>María</td>\n",
              "    </tr>\n",
              "  </tbody>\n",
              "</table>\n",
              "<p>3337 rows × 9 columns</p>\n",
              "</div>\n",
              "    <div class=\"colab-df-buttons\">\n",
              "\n",
              "  <div class=\"colab-df-container\">\n",
              "    <button class=\"colab-df-convert\" onclick=\"convertToInteractive('df-4c6ad1f0-3e56-464f-b643-ea1f2a742b9c')\"\n",
              "            title=\"Convert this dataframe to an interactive table.\"\n",
              "            style=\"display:none;\">\n",
              "\n",
              "  <svg xmlns=\"http://www.w3.org/2000/svg\" height=\"24px\" viewBox=\"0 -960 960 960\">\n",
              "    <path d=\"M120-120v-720h720v720H120Zm60-500h600v-160H180v160Zm220 220h160v-160H400v160Zm0 220h160v-160H400v160ZM180-400h160v-160H180v160Zm440 0h160v-160H620v160ZM180-180h160v-160H180v160Zm440 0h160v-160H620v160Z\"/>\n",
              "  </svg>\n",
              "    </button>\n",
              "\n",
              "  <style>\n",
              "    .colab-df-container {\n",
              "      display:flex;\n",
              "      gap: 12px;\n",
              "    }\n",
              "\n",
              "    .colab-df-convert {\n",
              "      background-color: #E8F0FE;\n",
              "      border: none;\n",
              "      border-radius: 50%;\n",
              "      cursor: pointer;\n",
              "      display: none;\n",
              "      fill: #1967D2;\n",
              "      height: 32px;\n",
              "      padding: 0 0 0 0;\n",
              "      width: 32px;\n",
              "    }\n",
              "\n",
              "    .colab-df-convert:hover {\n",
              "      background-color: #E2EBFA;\n",
              "      box-shadow: 0px 1px 2px rgba(60, 64, 67, 0.3), 0px 1px 3px 1px rgba(60, 64, 67, 0.15);\n",
              "      fill: #174EA6;\n",
              "    }\n",
              "\n",
              "    .colab-df-buttons div {\n",
              "      margin-bottom: 4px;\n",
              "    }\n",
              "\n",
              "    [theme=dark] .colab-df-convert {\n",
              "      background-color: #3B4455;\n",
              "      fill: #D2E3FC;\n",
              "    }\n",
              "\n",
              "    [theme=dark] .colab-df-convert:hover {\n",
              "      background-color: #434B5C;\n",
              "      box-shadow: 0px 1px 3px 1px rgba(0, 0, 0, 0.15);\n",
              "      filter: drop-shadow(0px 1px 2px rgba(0, 0, 0, 0.3));\n",
              "      fill: #FFFFFF;\n",
              "    }\n",
              "  </style>\n",
              "\n",
              "    <script>\n",
              "      const buttonEl =\n",
              "        document.querySelector('#df-4c6ad1f0-3e56-464f-b643-ea1f2a742b9c button.colab-df-convert');\n",
              "      buttonEl.style.display =\n",
              "        google.colab.kernel.accessAllowed ? 'block' : 'none';\n",
              "\n",
              "      async function convertToInteractive(key) {\n",
              "        const element = document.querySelector('#df-4c6ad1f0-3e56-464f-b643-ea1f2a742b9c');\n",
              "        const dataTable =\n",
              "          await google.colab.kernel.invokeFunction('convertToInteractive',\n",
              "                                                    [key], {});\n",
              "        if (!dataTable) return;\n",
              "\n",
              "        const docLinkHtml = 'Like what you see? Visit the ' +\n",
              "          '<a target=\"_blank\" href=https://colab.research.google.com/notebooks/data_table.ipynb>data table notebook</a>'\n",
              "          + ' to learn more about interactive tables.';\n",
              "        element.innerHTML = '';\n",
              "        dataTable['output_type'] = 'display_data';\n",
              "        await google.colab.output.renderOutput(dataTable, element);\n",
              "        const docLink = document.createElement('div');\n",
              "        docLink.innerHTML = docLinkHtml;\n",
              "        element.appendChild(docLink);\n",
              "      }\n",
              "    </script>\n",
              "  </div>\n",
              "\n",
              "\n",
              "<div id=\"df-31d79389-3818-45e8-8539-461fd7a45932\">\n",
              "  <button class=\"colab-df-quickchart\" onclick=\"quickchart('df-31d79389-3818-45e8-8539-461fd7a45932')\"\n",
              "            title=\"Suggest charts\"\n",
              "            style=\"display:none;\">\n",
              "\n",
              "<svg xmlns=\"http://www.w3.org/2000/svg\" height=\"24px\"viewBox=\"0 0 24 24\"\n",
              "     width=\"24px\">\n",
              "    <g>\n",
              "        <path d=\"M19 3H5c-1.1 0-2 .9-2 2v14c0 1.1.9 2 2 2h14c1.1 0 2-.9 2-2V5c0-1.1-.9-2-2-2zM9 17H7v-7h2v7zm4 0h-2V7h2v10zm4 0h-2v-4h2v4z\"/>\n",
              "    </g>\n",
              "</svg>\n",
              "  </button>\n",
              "\n",
              "<style>\n",
              "  .colab-df-quickchart {\n",
              "      --bg-color: #E8F0FE;\n",
              "      --fill-color: #1967D2;\n",
              "      --hover-bg-color: #E2EBFA;\n",
              "      --hover-fill-color: #174EA6;\n",
              "      --disabled-fill-color: #AAA;\n",
              "      --disabled-bg-color: #DDD;\n",
              "  }\n",
              "\n",
              "  [theme=dark] .colab-df-quickchart {\n",
              "      --bg-color: #3B4455;\n",
              "      --fill-color: #D2E3FC;\n",
              "      --hover-bg-color: #434B5C;\n",
              "      --hover-fill-color: #FFFFFF;\n",
              "      --disabled-bg-color: #3B4455;\n",
              "      --disabled-fill-color: #666;\n",
              "  }\n",
              "\n",
              "  .colab-df-quickchart {\n",
              "    background-color: var(--bg-color);\n",
              "    border: none;\n",
              "    border-radius: 50%;\n",
              "    cursor: pointer;\n",
              "    display: none;\n",
              "    fill: var(--fill-color);\n",
              "    height: 32px;\n",
              "    padding: 0;\n",
              "    width: 32px;\n",
              "  }\n",
              "\n",
              "  .colab-df-quickchart:hover {\n",
              "    background-color: var(--hover-bg-color);\n",
              "    box-shadow: 0 1px 2px rgba(60, 64, 67, 0.3), 0 1px 3px 1px rgba(60, 64, 67, 0.15);\n",
              "    fill: var(--button-hover-fill-color);\n",
              "  }\n",
              "\n",
              "  .colab-df-quickchart-complete:disabled,\n",
              "  .colab-df-quickchart-complete:disabled:hover {\n",
              "    background-color: var(--disabled-bg-color);\n",
              "    fill: var(--disabled-fill-color);\n",
              "    box-shadow: none;\n",
              "  }\n",
              "\n",
              "  .colab-df-spinner {\n",
              "    border: 2px solid var(--fill-color);\n",
              "    border-color: transparent;\n",
              "    border-bottom-color: var(--fill-color);\n",
              "    animation:\n",
              "      spin 1s steps(1) infinite;\n",
              "  }\n",
              "\n",
              "  @keyframes spin {\n",
              "    0% {\n",
              "      border-color: transparent;\n",
              "      border-bottom-color: var(--fill-color);\n",
              "      border-left-color: var(--fill-color);\n",
              "    }\n",
              "    20% {\n",
              "      border-color: transparent;\n",
              "      border-left-color: var(--fill-color);\n",
              "      border-top-color: var(--fill-color);\n",
              "    }\n",
              "    30% {\n",
              "      border-color: transparent;\n",
              "      border-left-color: var(--fill-color);\n",
              "      border-top-color: var(--fill-color);\n",
              "      border-right-color: var(--fill-color);\n",
              "    }\n",
              "    40% {\n",
              "      border-color: transparent;\n",
              "      border-right-color: var(--fill-color);\n",
              "      border-top-color: var(--fill-color);\n",
              "    }\n",
              "    60% {\n",
              "      border-color: transparent;\n",
              "      border-right-color: var(--fill-color);\n",
              "    }\n",
              "    80% {\n",
              "      border-color: transparent;\n",
              "      border-right-color: var(--fill-color);\n",
              "      border-bottom-color: var(--fill-color);\n",
              "    }\n",
              "    90% {\n",
              "      border-color: transparent;\n",
              "      border-bottom-color: var(--fill-color);\n",
              "    }\n",
              "  }\n",
              "</style>\n",
              "\n",
              "  <script>\n",
              "    async function quickchart(key) {\n",
              "      const quickchartButtonEl =\n",
              "        document.querySelector('#' + key + ' button');\n",
              "      quickchartButtonEl.disabled = true;  // To prevent multiple clicks.\n",
              "      quickchartButtonEl.classList.add('colab-df-spinner');\n",
              "      try {\n",
              "        const charts = await google.colab.kernel.invokeFunction(\n",
              "            'suggestCharts', [key], {});\n",
              "      } catch (error) {\n",
              "        console.error('Error during call to suggestCharts:', error);\n",
              "      }\n",
              "      quickchartButtonEl.classList.remove('colab-df-spinner');\n",
              "      quickchartButtonEl.classList.add('colab-df-quickchart-complete');\n",
              "    }\n",
              "    (() => {\n",
              "      let quickchartButtonEl =\n",
              "        document.querySelector('#df-31d79389-3818-45e8-8539-461fd7a45932 button');\n",
              "      quickchartButtonEl.style.display =\n",
              "        google.colab.kernel.accessAllowed ? 'block' : 'none';\n",
              "    })();\n",
              "  </script>\n",
              "</div>\n",
              "    </div>\n",
              "  </div>\n"
            ]
          },
          "metadata": {},
          "execution_count": 3
        }
      ]
    },
    {
      "cell_type": "code",
      "source": [
        "#Corroboramos valores nulos\n",
        "valores_nulos=data.isnull().sum()\n",
        "valores_nulos"
      ],
      "metadata": {
        "id": "OFgfEtYplkQj"
      },
      "execution_count": null,
      "outputs": []
    },
    {
      "cell_type": "markdown",
      "source": [
        "**PROCEDIMIENTO PARA SEPARAR DATAFRAME EN 2 PARTES (CUANTITATIVAS Y CUALITATIVAS)**"
      ],
      "metadata": {
        "id": "6RfS1slkl0Av"
      }
    },
    {
      "cell_type": "code",
      "source": [
        "#Verificamos información del DataFrame\n",
        "data.info()"
      ],
      "metadata": {
        "id": "e3wtx6Lml8UR"
      },
      "execution_count": null,
      "outputs": []
    },
    {
      "cell_type": "code",
      "source": [
        "#Filtro para obtener variables cuantitativas\n",
        "Cuantitativas=data.iloc[ : , [0, 5,6]]\n",
        "Cuantitativas"
      ],
      "metadata": {
        "id": "Yoa4qxhpmAY-"
      },
      "execution_count": null,
      "outputs": []
    },
    {
      "cell_type": "code",
      "source": [
        "#Filtro para obtener variables cualitativas\n",
        "Cualitativas=data.iloc[ : , [1,2,3,4,7,8]]\n",
        "Cualitativas"
      ],
      "metadata": {
        "id": "43xQbw7rmDWm"
      },
      "execution_count": null,
      "outputs": []
    },
    {
      "cell_type": "code",
      "source": [
        "#Realizamos diagrama de caja o bigote de cada columna del dataframe\n",
        "fig = plt.figure(figsize =(15, 8))\n",
        "Cuantitativas.plot(kind='box', vert=True)\n",
        "plt.title(\"Valores Atípicos del Dataframe\")\n",
        "plt.show() #dibujamos el diagrama"
      ],
      "metadata": {
        "id": "KoZZGEX4mGrJ"
      },
      "execution_count": null,
      "outputs": []
    },
    {
      "cell_type": "markdown",
      "source": [
        "**PROCEDIMIENTO \"DESVIACIÓN ESTÁNDAR\" PARA ELIMINAR OUTLIERS EN DATAFRAME**"
      ],
      "metadata": {
        "id": "iNqSRKwLoo5c"
      }
    },
    {
      "cell_type": "code",
      "source": [
        "#Método aplicando desviación estandar. Encuentro los valores extremos\n",
        "y=Cuantitativas\n",
        "Limite_Superior= y.mean() + 3*y.std()\n",
        "Limite_Inferior= y.mean() - 3*y.std()\n",
        "print(\"Limite superior permitido\", Limite_Superior)\n",
        "print(\"Limite inferior permitido\", Limite_Inferior)"
      ],
      "metadata": {
        "id": "zHGzlrYenlpV"
      },
      "execution_count": null,
      "outputs": []
    },
    {
      "cell_type": "code",
      "source": [
        "# Ajustar maximo de filas\n",
        "pd.options.display.max_rows = None"
      ],
      "metadata": {
        "id": "S0Rky71ho1vo"
      },
      "execution_count": 10,
      "outputs": []
    },
    {
      "cell_type": "code",
      "source": [
        "#Obtenemos datos y los outliers se convierten en nulos en el DataFrame\n",
        "Datos_sin_Outliers= Cuantitativas[(y<=Limite_Superior)&(y>=Limite_Inferior)]\n",
        "Datos_sin_Outliers"
      ],
      "metadata": {
        "id": "TeiYCffDo4bx"
      },
      "execution_count": null,
      "outputs": []
    },
    {
      "cell_type": "code",
      "source": [
        "#Corroboramos valores nulos\n",
        "valores_nulos=Datos_sin_Outliers.isnull().sum()\n",
        "valores_nulos"
      ],
      "metadata": {
        "id": "GPcxb1qto7rH"
      },
      "execution_count": null,
      "outputs": []
    },
    {
      "cell_type": "markdown",
      "source": [
        "**PROCEDIMIENTO \"CUANTILES\" PARA SUSTITUIR OUTLIERS EN DATAFRAME**"
      ],
      "metadata": {
        "id": "bhNCNOjvpUpM"
      }
    },
    {
      "cell_type": "code",
      "source": [
        "#Método aplicando Cuartiles. Encuentro cuartiles 0.25 y 0.75\n",
        "y=Cuantitativas\n",
        "\n",
        "percentile25=y.quantile(0.25) #Q1\n",
        "percentile75=y.quantile(0.75) #Q3\n",
        "iqr= percentile75 - percentile25\n",
        "\n",
        "Limite_Superior_iqr= percentile75 + 1.5*iqr\n",
        "Limite_Inferior_iqr= percentile25 - 1.5*iqr\n",
        "print(\"Limite superior permitido\", Limite_Superior_iqr)\n",
        "print(\"Limite inferior permitido\", Limite_Inferior_iqr)"
      ],
      "metadata": {
        "id": "FaPV3Z0ro_It"
      },
      "execution_count": null,
      "outputs": []
    },
    {
      "cell_type": "code",
      "source": [
        "#Obtenemos datos limpios del Dataframe\n",
        "Datos_sin_Outliers_iqr= Cuantitativas[(y<=Limite_Superior_iqr)&(y>=Limite_Inferior_iqr)]\n",
        "Datos_sin_Outliers_iqr"
      ],
      "metadata": {
        "id": "vN0QDjnCpbNg"
      },
      "execution_count": null,
      "outputs": []
    },
    {
      "cell_type": "code",
      "source": [
        "#Corroboramos valores nulos\n",
        "valores_nulos=Datos_sin_Outliers_iqr.isnull().sum()\n",
        "valores_nulos"
      ],
      "metadata": {
        "id": "U7dz4K0Lp1vL"
      },
      "execution_count": null,
      "outputs": []
    },
    {
      "cell_type": "code",
      "source": [
        "#Reemplazamos valores atípicos (nulos) del dataframe con \"mean\"\n",
        "#Realizamos una copia del dataframe\n",
        "data_clean_iqr=Datos_sin_Outliers_iqr.copy()\n",
        "data_clean_iqr=data_clean_iqr.fillna(round(Datos_sin_Outliers_iqr.mean(),1))\n",
        "data_clean_iqr"
      ],
      "metadata": {
        "id": "TLjN3QnuqJ3V"
      },
      "execution_count": null,
      "outputs": []
    },
    {
      "cell_type": "code",
      "source": [
        "#Corroboramos valores nulos\n",
        "valores_nulos=data_clean_iqr.isnull().sum()\n",
        "valores_nulos"
      ],
      "metadata": {
        "id": "MeEC1xkhqNqo"
      },
      "execution_count": null,
      "outputs": []
    },
    {
      "cell_type": "markdown",
      "source": [
        "**UNIÓN DE DATAFRAME CUANTITATIVO CON DATAFRAME CUALITATIVO**"
      ],
      "metadata": {
        "id": "hYQsO5icqg2I"
      }
    },
    {
      "cell_type": "code",
      "source": [
        "Dataframe_final = pd.concat([Cualitativas, data_clean_iqr], axis=1)\n",
        "Dataframe_final"
      ],
      "metadata": {
        "id": "774oTTEMqiTB"
      },
      "execution_count": null,
      "outputs": []
    },
    {
      "cell_type": "markdown",
      "source": [
        "**DESCARGA DE DATAFRAME PROCESADO**"
      ],
      "metadata": {
        "id": "ELLLZvhDqmlC"
      }
    },
    {
      "cell_type": "code",
      "source": [
        "#Convertir DataFrame a CSV\n",
        "Dataframe_final.to_csv(\"Dataframe_procesado.csv\")\n",
        "files.download(\"Dataframe_procesado.csv\")"
      ],
      "metadata": {
        "colab": {
          "base_uri": "https://localhost:8080/",
          "height": 17
        },
        "id": "IiNHaZExqqRP",
        "outputId": "0451e4b0-0166-4448-9ebd-73758f5c03cb"
      },
      "execution_count": 22,
      "outputs": [
        {
          "output_type": "display_data",
          "data": {
            "text/plain": [
              "<IPython.core.display.Javascript object>"
            ],
            "application/javascript": [
              "\n",
              "    async function download(id, filename, size) {\n",
              "      if (!google.colab.kernel.accessAllowed) {\n",
              "        return;\n",
              "      }\n",
              "      const div = document.createElement('div');\n",
              "      const label = document.createElement('label');\n",
              "      label.textContent = `Downloading \"${filename}\": `;\n",
              "      div.appendChild(label);\n",
              "      const progress = document.createElement('progress');\n",
              "      progress.max = size;\n",
              "      div.appendChild(progress);\n",
              "      document.body.appendChild(div);\n",
              "\n",
              "      const buffers = [];\n",
              "      let downloaded = 0;\n",
              "\n",
              "      const channel = await google.colab.kernel.comms.open(id);\n",
              "      // Send a message to notify the kernel that we're ready.\n",
              "      channel.send({})\n",
              "\n",
              "      for await (const message of channel.messages) {\n",
              "        // Send a message to notify the kernel that we're ready.\n",
              "        channel.send({})\n",
              "        if (message.buffers) {\n",
              "          for (const buffer of message.buffers) {\n",
              "            buffers.push(buffer);\n",
              "            downloaded += buffer.byteLength;\n",
              "            progress.value = downloaded;\n",
              "          }\n",
              "        }\n",
              "      }\n",
              "      const blob = new Blob(buffers, {type: 'application/binary'});\n",
              "      const a = document.createElement('a');\n",
              "      a.href = window.URL.createObjectURL(blob);\n",
              "      a.download = filename;\n",
              "      div.appendChild(a);\n",
              "      a.click();\n",
              "      div.remove();\n",
              "    }\n",
              "  "
            ]
          },
          "metadata": {}
        },
        {
          "output_type": "display_data",
          "data": {
            "text/plain": [
              "<IPython.core.display.Javascript object>"
            ],
            "application/javascript": [
              "download(\"download_abfd0003-9766-448e-a9a5-f3f81c1fa059\", \"Dataframe_procesado.csv\", 302737)"
            ]
          },
          "metadata": {}
        }
      ]
    }
  ]
}